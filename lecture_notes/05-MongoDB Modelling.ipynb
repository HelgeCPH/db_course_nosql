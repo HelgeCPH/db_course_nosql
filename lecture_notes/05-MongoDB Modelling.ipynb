{
 "cells": [
  {
   "cell_type": "markdown",
   "metadata": {
    "collapsed": true
   },
   "source": [
    "# `2dsphere` Indexes \n",
    "\n",
    "We ran through the tutorial \"Find Restaurants with Geospatial Queries\"\n",
    "https://docs.mongodb.com/manual/tutorial/geospatial-tutorial/\n",
    "\n",
    "## Task\n",
    "\n",
    "Subsequently, your Task is to import the cities file that you need for your project, e.g., http://download.geonames.org/export/dump/cities15000.zip, http://download.geonames.org/export/dump/cities5000.zip, or http://download.geonames.org/export/dump/cities1000.zip and create a geospatial index, so that you can find all cities, which are in 50 kilometeres distance of Copenhagen (55.67594, 12.56553) for example.\n",
    "\n",
    "\n"
   ]
  },
  {
   "cell_type": "markdown",
   "metadata": {},
   "source": [
    "# Data Modeling Concepts\n",
    "\n",
    "\n",
    "In this session we discussed everything that is described in the following documents.\n",
    "\n",
    "## References vs. Embedded Data\n",
    "\n",
    "https://docs.mongodb.com/manual/core/data-modeling-introduction/\n",
    "\n",
    "\n",
    "## Data Model Design\n",
    "\n",
    "https://docs.mongodb.com/manual/core/data-model-design/\n",
    "\n",
    "## Operational Factors and Data Models\n",
    "\n",
    "https://docs.mongodb.com/manual/core/data-model-operations/\n",
    "\n",
    "\n",
    "## Data Model Examples and Patterns\n",
    "\n",
    "https://docs.mongodb.com/manual/applications/data-models/\n",
    "\n",
    "\n",
    "## Document Validation\n",
    "\n",
    "https://docs.mongodb.com/manual/core/document-validation/\n",
    "\n",
    "\n",
    "## Text Search\n",
    "\n",
    "https://docs.mongodb.com/manual/text-search/\n"
   ]
  },
  {
   "cell_type": "markdown",
   "metadata": {},
   "source": [
    "# Document Structure\n",
    "\n",
    "Most of the above manuals are covered in more detail in chapters 4 and 5 in *\"MongoDB in Action, Second Edition\"* by K. Banker, P. Bakkum, S. Verch, D. Garrett.\n"
   ]
  }
 ],
 "metadata": {
  "kernelspec": {
   "display_name": "Python 3",
   "language": "python",
   "name": "python3"
  },
  "language_info": {
   "codemirror_mode": {
    "name": "ipython",
    "version": 3
   },
   "file_extension": ".py",
   "mimetype": "text/x-python",
   "name": "python",
   "nbconvert_exporter": "python",
   "pygments_lexer": "ipython3",
   "version": "3.5.2"
  }
 },
 "nbformat": 4,
 "nbformat_minor": 2
}
